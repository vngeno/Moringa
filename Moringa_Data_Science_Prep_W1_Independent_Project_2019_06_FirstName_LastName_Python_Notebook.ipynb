{
  "nbformat": 4,
  "nbformat_minor": 0,
  "metadata": {
    "colab": {
      "name": "Moringa_Data_Science_Prep_W1_Independent_Project_2019_06_FirstName_LastName_Python_Notebook",
      "provenance": [],
      "authorship_tag": "ABX9TyOsB+5Vze5ZlFV9DbIhlB6g",
      "include_colab_link": true
    },
    "kernelspec": {
      "name": "python3",
      "display_name": "Python 3"
    },
    "language_info": {
      "name": "python"
    }
  },
  "cells": [
    {
      "cell_type": "markdown",
      "metadata": {
        "id": "view-in-github",
        "colab_type": "text"
      },
      "source": [
        "<a href=\"https://colab.research.google.com/github/vngeno/Moringa/blob/main/Moringa_Data_Science_Prep_W1_Independent_Project_2019_06_FirstName_LastName_Python_Notebook.ipynb\" target=\"_parent\"><img src=\"https://colab.research.google.com/assets/colab-badge.svg\" alt=\"Open In Colab\"/></a>"
      ]
    },
    {
      "cell_type": "code",
      "metadata": {
        "colab": {
          "base_uri": "https://localhost:8080/"
        },
        "id": "DpbiK8Kztgj_",
        "outputId": "b89f91fb-904a-4b52-b748-c6c33f6b3021"
      },
      "source": [
        "#Create  a program that will\n",
        "#Take in two values from a user (both in pounds) then convert those values to kilograms.\n",
        "Weight = int (input(\"What is your weight in pounds? \"))\n",
        "Weight_in_kgs = (Weight/2.2)\n",
        "print(\"Weight in kgs is: \" + str (Weight_in_kgs) )"
      ],
      "execution_count": null,
      "outputs": [
        {
          "output_type": "stream",
          "text": [
            "What is your weight in pounds? 66\n",
            "Weight in kgs is: 29.999999999999996\n"
          ],
          "name": "stdout"
        }
      ]
    },
    {
      "cell_type": "code",
      "metadata": {
        "colab": {
          "base_uri": "https://localhost:8080/"
        },
        "id": "hjpliwbNsxoS",
        "outputId": "331eb119-3230-4ab4-c435-be4390f79816"
      },
      "source": [
        "#We'll create a program that\n",
        "#Perform the sum of the values.\n",
        "x = 2\n",
        "y = 5\n",
        "VALUE = (x+y)\n",
        "print(VALUE)"
      ],
      "execution_count": null,
      "outputs": [
        {
          "output_type": "stream",
          "text": [
            "7\n"
          ],
          "name": "stdout"
        }
      ]
    },
    {
      "cell_type": "code",
      "metadata": {
        "colab": {
          "base_uri": "https://localhost:8080/"
        },
        "id": "1_DFhZRBxRk2",
        "outputId": "8e227ac0-6ea7-43d5-e508-f39883da4ad0"
      },
      "source": [
        "#Create a program that will\n",
        "#Perform the average of the values.\n",
        "values = (2,3,4)\n",
        "AVERAGE_VALUE = sum(values) / len(values)\n",
        "print(AVERAGE_VALUE)"
      ],
      "execution_count": null,
      "outputs": [
        {
          "output_type": "stream",
          "text": [
            "3.0\n"
          ],
          "name": "stdout"
        }
      ]
    },
    {
      "cell_type": "code",
      "metadata": {
        "colab": {
          "base_uri": "https://localhost:8080/"
        },
        "id": "ePOWUmphz_Qe",
        "outputId": "9fad24d1-7151-4d4e-87ab-9914e9b5a652"
      },
      "source": [
        "#Create a program that will\n",
        "#Find the difference between both values.  \n",
        "x = 9\n",
        "y = 5.5\n",
        "DIFFERENCE = (x-y)\n",
        "print(DIFFERENCE)"
      ],
      "execution_count": null,
      "outputs": [
        {
          "output_type": "stream",
          "text": [
            "3.5\n"
          ],
          "name": "stdout"
        }
      ]
    },
    {
      "cell_type": "code",
      "metadata": {
        "colab": {
          "base_uri": "https://localhost:8080/"
        },
        "id": "I1AgpDyy0bV1",
        "outputId": "9e27165c-6979-45bd-b398-9ad16276ac32"
      },
      "source": [
        "#Create a program that will\n",
        "#Find the quotient when one value is divided by the other.\n",
        "x = 26\n",
        "y = 3\n",
        "QUOTIENT = (x/y)\n",
        "print(QUOTIENT)"
      ],
      "execution_count": null,
      "outputs": [
        {
          "output_type": "stream",
          "text": [
            "8.666666666666666\n"
          ],
          "name": "stdout"
        }
      ]
    },
    {
      "cell_type": "code",
      "metadata": {
        "colab": {
          "base_uri": "https://localhost:8080/"
        },
        "id": "oLMEo3Qq0t79",
        "outputId": "5fd08eaf-ffb9-4426-c7d5-ed51f98d8d0f"
      },
      "source": [
        "#Determine and print out whether any of the numbers are even or add.\n",
        "n = int (input(\"What is your number? \"))\n",
        "if n % 2 ==0:\n",
        "  print(\"Number is even\")\n",
        "else:\n",
        "  print('Number is odd')"
      ],
      "execution_count": null,
      "outputs": [
        {
          "output_type": "stream",
          "text": [
            "What is your number? 202\n",
            "Number is even\n"
          ],
          "name": "stdout"
        }
      ]
    }
  ]
}